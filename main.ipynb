{
 "cells": [
  {
   "cell_type": "code",
   "execution_count": null,
   "metadata": {},
   "outputs": [],
   "source": [
    "import numpy as np\n",
    "import pandas as pd\n",
    "import matplotlib.pyplot as plt\n",
    "from sklearn.model_selection import train_test_split\n",
    "from sklearn.metrics import mean_squared_error, r2_score\n",
    "from sklearn.ensemble import RandomForestRegressor"
   ]
  },
  {
   "cell_type": "code",
   "execution_count": 16,
   "metadata": {},
   "outputs": [],
   "source": [
    "# Charger l'ensemble de données\n",
    "data = pd.read_parquet('NORWAY_INFLOW_2018-2022.parquet')\n",
    "data.to_csv('NORWAY_INFLOW_2018-2022.csv')\n",
    "data = pd.read_csv('NORWAY_INFLOW_2018-2022.csv')"
   ]
  },
  {
   "cell_type": "code",
   "execution_count": 20,
   "metadata": {},
   "outputs": [],
   "source": [
    "# Créer une colonne 'Time_id' pour combiner 'Year' et 'Week' en une seule colonne\n",
    "# Cela facilite la manipulation des données temporelles dans les étapes ultérieures.\n",
    "data['time_id'] = data['year'].astype(str) + '-' + data['week'].astype(str)\n",
    "\n",
    "# Convertir la colonne 'Time_id' en objet datetime\n",
    "# Cela permet d'utiliser les fonctionnalités de manipulation de date et d'heure de pandas.\n",
    "data['time_id'] = pd.to_datetime(data['time_id'] + '-1', format='%Y-%W-%w')\n"
   ]
  },
  {
   "cell_type": "code",
   "execution_count": null,
   "metadata": {},
   "outputs": [],
   "source": []
  }
 ],
 "metadata": {
  "kernelspec": {
   "display_name": "Python 3",
   "language": "python",
   "name": "python3"
  },
  "language_info": {
   "codemirror_mode": {
    "name": "ipython",
    "version": 3
   },
   "file_extension": ".py",
   "mimetype": "text/x-python",
   "name": "python",
   "nbconvert_exporter": "python",
   "pygments_lexer": "ipython3",
   "version": "3.10.6"
  },
  "orig_nbformat": 4
 },
 "nbformat": 4,
 "nbformat_minor": 2
}
